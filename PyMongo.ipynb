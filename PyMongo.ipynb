{
 "cells": [
  {
   "cell_type": "markdown",
   "id": "def7a5e3",
   "metadata": {},
   "source": [
    "Welcome to my MongoDB with Pymongo Notebook. In this notebook we have performed varios operations of Pymongg with the sample documents.\n",
    "1. Create DB.\n",
    "2. Create Collection.\n",
    "3. Insert One Record.\n",
    "4. Insert Many Record.\n",
    "5. Fetch One Record.\n",
    "6. Fetch All Records.\n",
    "7. Basic Queries.\n",
    "8. Delete Collection"
   ]
  },
  {
   "cell_type": "code",
   "execution_count": 1,
   "id": "680eb597",
   "metadata": {},
   "outputs": [],
   "source": [
    "from pymongo import MongoClient"
   ]
  },
  {
   "cell_type": "code",
   "execution_count": 3,
   "id": "0cdf192c",
   "metadata": {},
   "outputs": [],
   "source": [
    "#setting client\n",
    "client = MongoClient(['localhost'])\n",
    "#Database\n",
    "db = client['test-database']\n",
    "#collections\n",
    "collection = db['test-collections']"
   ]
  },
  {
   "cell_type": "code",
   "execution_count": 9,
   "id": "fdb3afb7",
   "metadata": {},
   "outputs": [
    {
     "name": "stdout",
     "output_type": "stream",
     "text": [
      "637326e0784ebafa8bd9b174\n"
     ]
    }
   ],
   "source": [
    "#content\n",
    "mydict = {\"name\":\"sujit\",\"age\":24}\n",
    "\n",
    "#insert one \n",
    "x= collection.insert_one(mydict).inserted_id#to get ids\n",
    "print(x)"
   ]
  },
  {
   "cell_type": "code",
   "execution_count": 12,
   "id": "3d3722e3",
   "metadata": {},
   "outputs": [
    {
     "data": {
      "text/plain": [
       "{'_id': ObjectId('6373263c784ebafa8bd9b16f'), 'name': 'sujit', 'age': 24}"
      ]
     },
     "execution_count": 12,
     "metadata": {},
     "output_type": "execute_result"
    }
   ],
   "source": [
    "#access one record\n",
    "a = collection.find_one()\n",
    "a"
   ]
  },
  {
   "cell_type": "code",
   "execution_count": 24,
   "id": "6d32d74f",
   "metadata": {},
   "outputs": [
    {
     "name": "stdout",
     "output_type": "stream",
     "text": [
      "[ObjectId('63732d5a784ebafa8bd9b1b1'), ObjectId('63732d5a784ebafa8bd9b1b2'), ObjectId('63732d5a784ebafa8bd9b1b3'), ObjectId('63732d5a784ebafa8bd9b1b4'), ObjectId('63732d5a784ebafa8bd9b1b5'), ObjectId('63732d5a784ebafa8bd9b1b6'), ObjectId('63732d5a784ebafa8bd9b1b7'), ObjectId('63732d5a784ebafa8bd9b1b8'), ObjectId('63732d5a784ebafa8bd9b1b9'), ObjectId('63732d5a784ebafa8bd9b1ba'), ObjectId('63732d5a784ebafa8bd9b1bb'), ObjectId('63732d5a784ebafa8bd9b1bc')]\n"
     ]
    }
   ],
   "source": [
    "#insert many \n",
    "    mylist = [\n",
    "    {\"name\": \"Amy\", \"address\": \"Apple st 652\"},\n",
    "    {\"name\": \"Hannah\", \"address\": \"Mountain 21\"},\n",
    "    {\"name\": \"Michael\", \"address\": \"Valley 345\"},\n",
    "    {\"name\": \"Sandy\", \"address\": \"Ocean blvd 2\"},\n",
    "    {\"name\": \"Betty\", \"address\": \"Green Grass 1\"},\n",
    "    {\"name\": \"Richard\", \"address\": \"Sky st 331\"},\n",
    "    {\"name\": \"Susan\", \"address\": \"One way 98\"},\n",
    "    {\"name\": \"Vicky\", \"address\": \"Yellow Garden 2\"},\n",
    "    {\"name\": \"Ben\", \"address\": \"Park Lane 38\"},\n",
    "    {\"name\": \"William\", \"address\": \"Central st 954\"},\n",
    "    {\"name\": \"Chuck\", \"address\": \"Main Road 989\"},\n",
    "    {\"name\": \"Viola\", \"address\": \"Sideway 1633\"}\n",
    "]\n",
    "b = collection.insert_many(mylist).inserted_ids\n",
    "print(b)"
   ]
  },
  {
   "cell_type": "code",
   "execution_count": 48,
   "id": "33128dc9",
   "metadata": {},
   "outputs": [
    {
     "name": "stdout",
     "output_type": "stream",
     "text": [
      "{'_id': ObjectId('6373263c784ebafa8bd9b16f'), 'name': 'sujit', 'age': 24}\n",
      "{'_id': ObjectId('63732645784ebafa8bd9b170'), 'name': 'sujit', 'age': 24}\n",
      "{'_id': ObjectId('637326b7784ebafa8bd9b171'), 'name': 'sujit', 'age': 24}\n",
      "{'_id': ObjectId('637326c4784ebafa8bd9b172'), 'name': 'sujit', 'age': 24}\n",
      "{'_id': ObjectId('637326d3784ebafa8bd9b173'), 'name': 'sujit', 'age': 24}\n",
      "{'_id': ObjectId('637326e0784ebafa8bd9b174'), 'name': 'sujit', 'age': 24}\n",
      "{'_id': ObjectId('63732c47784ebafa8bd9b175'), 'name': 'Amy', 'address': 'Apple st 652'}\n",
      "{'_id': ObjectId('63732c47784ebafa8bd9b177'), 'name': 'Minnie', 'address': 'Valley 345'}\n",
      "{'_id': ObjectId('63732c47784ebafa8bd9b178'), 'name': 'Sandy', 'address': 'Ocean blvd 2'}\n",
      "{'_id': ObjectId('63732c47784ebafa8bd9b179'), 'name': 'Betty', 'address': 'Green Grass 1'}\n",
      "{'_id': ObjectId('63732c47784ebafa8bd9b17a'), 'name': 'Richard', 'address': 'Sky st 331'}\n",
      "{'_id': ObjectId('63732c47784ebafa8bd9b17b'), 'name': 'Susan', 'address': 'One way 98'}\n",
      "{'_id': ObjectId('63732c47784ebafa8bd9b17c'), 'name': 'Vicky', 'address': 'Yellow Garden 2'}\n",
      "{'_id': ObjectId('63732c47784ebafa8bd9b17d'), 'name': 'Ben', 'address': 'Park Lane 38'}\n",
      "{'_id': ObjectId('63732c47784ebafa8bd9b17e'), 'name': 'William', 'address': 'Central st 954'}\n",
      "{'_id': ObjectId('63732c47784ebafa8bd9b17f'), 'name': 'Chuck', 'address': 'Main Road 989'}\n",
      "{'_id': ObjectId('63732c47784ebafa8bd9b180'), 'name': 'Viola', 'address': 'Sideway 1633'}\n",
      "{'_id': ObjectId('63732c5b784ebafa8bd9b181'), 'name': 'Amy', 'address': 'Apple st 652'}\n",
      "{'_id': ObjectId('63732c5b784ebafa8bd9b183'), 'name': 'Minnie', 'address': 'Valley 345'}\n",
      "{'_id': ObjectId('63732c5b784ebafa8bd9b184'), 'name': 'Sandy', 'address': 'Ocean blvd 2'}\n",
      "{'_id': ObjectId('63732c5b784ebafa8bd9b185'), 'name': 'Betty', 'address': 'Green Grass 1'}\n",
      "{'_id': ObjectId('63732c5b784ebafa8bd9b186'), 'name': 'Richard', 'address': 'Sky st 331'}\n",
      "{'_id': ObjectId('63732c5b784ebafa8bd9b187'), 'name': 'Susan', 'address': 'One way 98'}\n",
      "{'_id': ObjectId('63732c5b784ebafa8bd9b188'), 'name': 'Vicky', 'address': 'Yellow Garden 2'}\n",
      "{'_id': ObjectId('63732c5b784ebafa8bd9b189'), 'name': 'Ben', 'address': 'Park Lane 38'}\n",
      "{'_id': ObjectId('63732c5b784ebafa8bd9b18a'), 'name': 'William', 'address': 'Central st 954'}\n",
      "{'_id': ObjectId('63732c5b784ebafa8bd9b18b'), 'name': 'Chuck', 'address': 'Main Road 989'}\n",
      "{'_id': ObjectId('63732c5b784ebafa8bd9b18c'), 'name': 'Viola', 'address': 'Sideway 1633'}\n",
      "{'_id': ObjectId('63732c61784ebafa8bd9b18d'), 'name': 'Amy', 'address': 'Apple st 652'}\n",
      "{'_id': ObjectId('63732c61784ebafa8bd9b18f'), 'name': 'Minnie', 'address': 'Valley 345'}\n",
      "{'_id': ObjectId('63732c61784ebafa8bd9b190'), 'name': 'Sandy', 'address': 'Ocean blvd 2'}\n",
      "{'_id': ObjectId('63732c61784ebafa8bd9b191'), 'name': 'Betty', 'address': 'Green Grass 1'}\n",
      "{'_id': ObjectId('63732c61784ebafa8bd9b192'), 'name': 'Richard', 'address': 'Sky st 331'}\n",
      "{'_id': ObjectId('63732c61784ebafa8bd9b193'), 'name': 'Susan', 'address': 'One way 98'}\n",
      "{'_id': ObjectId('63732c61784ebafa8bd9b194'), 'name': 'Vicky', 'address': 'Yellow Garden 2'}\n",
      "{'_id': ObjectId('63732c61784ebafa8bd9b195'), 'name': 'Ben', 'address': 'Park Lane 38'}\n",
      "{'_id': ObjectId('63732c61784ebafa8bd9b196'), 'name': 'William', 'address': 'Central st 954'}\n",
      "{'_id': ObjectId('63732c61784ebafa8bd9b197'), 'name': 'Chuck', 'address': 'Main Road 989'}\n",
      "{'_id': ObjectId('63732c61784ebafa8bd9b198'), 'name': 'Viola', 'address': 'Sideway 1633'}\n",
      "{'_id': ObjectId('63732c6b784ebafa8bd9b199'), 'name': 'Amy', 'address': 'Apple st 652'}\n",
      "{'_id': ObjectId('63732c6b784ebafa8bd9b19b'), 'name': 'Minnie', 'address': 'Valley 345'}\n",
      "{'_id': ObjectId('63732c6b784ebafa8bd9b19c'), 'name': 'Sandy', 'address': 'Ocean blvd 2'}\n",
      "{'_id': ObjectId('63732c6b784ebafa8bd9b19d'), 'name': 'Betty', 'address': 'Green Grass 1'}\n",
      "{'_id': ObjectId('63732c6b784ebafa8bd9b19e'), 'name': 'Richard', 'address': 'Sky st 331'}\n",
      "{'_id': ObjectId('63732c6b784ebafa8bd9b19f'), 'name': 'Susan', 'address': 'One way 98'}\n",
      "{'_id': ObjectId('63732c6b784ebafa8bd9b1a0'), 'name': 'Vicky', 'address': 'Yellow Garden 2'}\n",
      "{'_id': ObjectId('63732c6b784ebafa8bd9b1a1'), 'name': 'Ben', 'address': 'Park Lane 38'}\n",
      "{'_id': ObjectId('63732c6b784ebafa8bd9b1a2'), 'name': 'William', 'address': 'Central st 954'}\n",
      "{'_id': ObjectId('63732c6b784ebafa8bd9b1a3'), 'name': 'Chuck', 'address': 'Main Road 989'}\n",
      "{'_id': ObjectId('63732c6b784ebafa8bd9b1a4'), 'name': 'Viola', 'address': 'Sideway 1633'}\n",
      "{'_id': ObjectId('63732c79784ebafa8bd9b1a5'), 'name': 'Amy', 'address': 'Apple st 652'}\n",
      "{'_id': ObjectId('63732c79784ebafa8bd9b1a6'), 'name': 'Hannah', 'address': 'Mountain 21'}\n",
      "{'_id': ObjectId('63732c79784ebafa8bd9b1a7'), 'name': 'Minnie', 'address': 'Valley 345'}\n",
      "{'_id': ObjectId('63732c79784ebafa8bd9b1a8'), 'name': 'Sandy', 'address': 'Ocean blvd 2'}\n",
      "{'_id': ObjectId('63732c79784ebafa8bd9b1a9'), 'name': 'Betty', 'address': 'Green Grass 1'}\n",
      "{'_id': ObjectId('63732c79784ebafa8bd9b1aa'), 'name': 'Richard', 'address': 'Sky st 331'}\n",
      "{'_id': ObjectId('63732c79784ebafa8bd9b1ab'), 'name': 'Susan', 'address': 'One way 98'}\n",
      "{'_id': ObjectId('63732c79784ebafa8bd9b1ac'), 'name': 'Vicky', 'address': 'Yellow Garden 2'}\n",
      "{'_id': ObjectId('63732c79784ebafa8bd9b1ad'), 'name': 'Ben', 'address': 'Park Lane 38'}\n",
      "{'_id': ObjectId('63732c79784ebafa8bd9b1ae'), 'name': 'William', 'address': 'Central st 954'}\n",
      "{'_id': ObjectId('63732c79784ebafa8bd9b1af'), 'name': 'Chuck', 'address': 'Main Road 989'}\n",
      "{'_id': ObjectId('63732c79784ebafa8bd9b1b0'), 'name': 'Viola', 'address': 'Sideway 1633'}\n",
      "{'_id': ObjectId('63732d5a784ebafa8bd9b1b1'), 'name': 'Amy', 'address': 'Apple st 652'}\n",
      "{'_id': ObjectId('63732d5a784ebafa8bd9b1b2'), 'name': 'Hannah', 'address': 'Mountain 21'}\n",
      "{'_id': ObjectId('63732d5a784ebafa8bd9b1b3'), 'name': 'Minnie', 'address': 'Valley 345'}\n",
      "{'_id': ObjectId('63732d5a784ebafa8bd9b1b4'), 'name': 'Sandy', 'address': 'Ocean blvd 2'}\n",
      "{'_id': ObjectId('63732d5a784ebafa8bd9b1b5'), 'name': 'Betty', 'address': 'Green Grass 1'}\n",
      "{'_id': ObjectId('63732d5a784ebafa8bd9b1b6'), 'name': 'Richard', 'address': 'Sky st 331'}\n",
      "{'_id': ObjectId('63732d5a784ebafa8bd9b1b7'), 'name': 'Susan', 'address': 'One way 98'}\n",
      "{'_id': ObjectId('63732d5a784ebafa8bd9b1b8'), 'name': 'Vicky', 'address': 'Yellow Garden 2'}\n",
      "{'_id': ObjectId('63732d5a784ebafa8bd9b1b9'), 'name': 'Ben', 'address': 'Park Lane 38'}\n",
      "{'_id': ObjectId('63732d5a784ebafa8bd9b1ba'), 'name': 'William', 'address': 'Central st 954'}\n",
      "{'_id': ObjectId('63732d5a784ebafa8bd9b1bb'), 'name': 'Chuck', 'address': 'Main Road 989'}\n",
      "{'_id': ObjectId('63732d5a784ebafa8bd9b1bc'), 'name': 'Viola', 'address': 'Sideway 1633'}\n"
     ]
    }
   ],
   "source": [
    "#fetch many\n",
    "for c in collection.find():\n",
    "    print(c)"
   ]
  },
  {
   "cell_type": "code",
   "execution_count": 31,
   "id": "7cacf9ab",
   "metadata": {},
   "outputs": [
    {
     "name": "stdout",
     "output_type": "stream",
     "text": [
      "_id\n",
      "name\n",
      "address\n"
     ]
    }
   ],
   "source": [
    "#query\n",
    "\n",
    "myquery = { 'name': 'Viola' }\n",
    "for d in collection.find_one(myquery):\n",
    "    print(d)\n"
   ]
  },
  {
   "cell_type": "code",
   "execution_count": 32,
   "id": "b837cfd9",
   "metadata": {},
   "outputs": [
    {
     "name": "stdout",
     "output_type": "stream",
     "text": [
      "{'name': 'sujit'}\n",
      "{'name': 'sujit'}\n",
      "{'name': 'sujit'}\n",
      "{'name': 'sujit'}\n",
      "{'name': 'sujit'}\n",
      "{'name': 'sujit'}\n",
      "{'name': 'Amy', 'address': 'Apple st 652'}\n",
      "{'name': 'Hannah', 'address': 'Mountain 21'}\n",
      "{'name': 'Michael', 'address': 'Valley 345'}\n",
      "{'name': 'Sandy', 'address': 'Ocean blvd 2'}\n",
      "{'name': 'Betty', 'address': 'Green Grass 1'}\n",
      "{'name': 'Richard', 'address': 'Sky st 331'}\n",
      "{'name': 'Susan', 'address': 'One way 98'}\n",
      "{'name': 'Vicky', 'address': 'Yellow Garden 2'}\n",
      "{'name': 'Ben', 'address': 'Park Lane 38'}\n",
      "{'name': 'William', 'address': 'Central st 954'}\n",
      "{'name': 'Chuck', 'address': 'Main Road 989'}\n",
      "{'name': 'Viola', 'address': 'Sideway 1633'}\n",
      "{'name': 'Amy', 'address': 'Apple st 652'}\n",
      "{'name': 'Hannah', 'address': 'Mountain 21'}\n",
      "{'name': 'Michael', 'address': 'Valley 345'}\n",
      "{'name': 'Sandy', 'address': 'Ocean blvd 2'}\n",
      "{'name': 'Betty', 'address': 'Green Grass 1'}\n",
      "{'name': 'Richard', 'address': 'Sky st 331'}\n",
      "{'name': 'Susan', 'address': 'One way 98'}\n",
      "{'name': 'Vicky', 'address': 'Yellow Garden 2'}\n",
      "{'name': 'Ben', 'address': 'Park Lane 38'}\n",
      "{'name': 'William', 'address': 'Central st 954'}\n",
      "{'name': 'Chuck', 'address': 'Main Road 989'}\n",
      "{'name': 'Viola', 'address': 'Sideway 1633'}\n",
      "{'name': 'Amy', 'address': 'Apple st 652'}\n",
      "{'name': 'Hannah', 'address': 'Mountain 21'}\n",
      "{'name': 'Michael', 'address': 'Valley 345'}\n",
      "{'name': 'Sandy', 'address': 'Ocean blvd 2'}\n",
      "{'name': 'Betty', 'address': 'Green Grass 1'}\n",
      "{'name': 'Richard', 'address': 'Sky st 331'}\n",
      "{'name': 'Susan', 'address': 'One way 98'}\n",
      "{'name': 'Vicky', 'address': 'Yellow Garden 2'}\n",
      "{'name': 'Ben', 'address': 'Park Lane 38'}\n",
      "{'name': 'William', 'address': 'Central st 954'}\n",
      "{'name': 'Chuck', 'address': 'Main Road 989'}\n",
      "{'name': 'Viola', 'address': 'Sideway 1633'}\n",
      "{'name': 'Amy', 'address': 'Apple st 652'}\n",
      "{'name': 'Hannah', 'address': 'Mountain 21'}\n",
      "{'name': 'Michael', 'address': 'Valley 345'}\n",
      "{'name': 'Sandy', 'address': 'Ocean blvd 2'}\n",
      "{'name': 'Betty', 'address': 'Green Grass 1'}\n",
      "{'name': 'Richard', 'address': 'Sky st 331'}\n",
      "{'name': 'Susan', 'address': 'One way 98'}\n",
      "{'name': 'Vicky', 'address': 'Yellow Garden 2'}\n",
      "{'name': 'Ben', 'address': 'Park Lane 38'}\n",
      "{'name': 'William', 'address': 'Central st 954'}\n",
      "{'name': 'Chuck', 'address': 'Main Road 989'}\n",
      "{'name': 'Viola', 'address': 'Sideway 1633'}\n",
      "{'name': 'Amy', 'address': 'Apple st 652'}\n",
      "{'name': 'Hannah', 'address': 'Mountain 21'}\n",
      "{'name': 'Michael', 'address': 'Valley 345'}\n",
      "{'name': 'Sandy', 'address': 'Ocean blvd 2'}\n",
      "{'name': 'Betty', 'address': 'Green Grass 1'}\n",
      "{'name': 'Richard', 'address': 'Sky st 331'}\n",
      "{'name': 'Susan', 'address': 'One way 98'}\n",
      "{'name': 'Vicky', 'address': 'Yellow Garden 2'}\n",
      "{'name': 'Ben', 'address': 'Park Lane 38'}\n",
      "{'name': 'William', 'address': 'Central st 954'}\n",
      "{'name': 'Chuck', 'address': 'Main Road 989'}\n",
      "{'name': 'Viola', 'address': 'Sideway 1633'}\n",
      "{'name': 'Amy', 'address': 'Apple st 652'}\n",
      "{'name': 'Hannah', 'address': 'Mountain 21'}\n",
      "{'name': 'Michael', 'address': 'Valley 345'}\n",
      "{'name': 'Sandy', 'address': 'Ocean blvd 2'}\n",
      "{'name': 'Betty', 'address': 'Green Grass 1'}\n",
      "{'name': 'Richard', 'address': 'Sky st 331'}\n",
      "{'name': 'Susan', 'address': 'One way 98'}\n",
      "{'name': 'Vicky', 'address': 'Yellow Garden 2'}\n",
      "{'name': 'Ben', 'address': 'Park Lane 38'}\n",
      "{'name': 'William', 'address': 'Central st 954'}\n",
      "{'name': 'Chuck', 'address': 'Main Road 989'}\n",
      "{'name': 'Viola', 'address': 'Sideway 1633'}\n"
     ]
    }
   ],
   "source": [
    "for x in collection.find({},{ \"_id\": 0, \"name\": 1, \"address\": 1 }):\n",
    "    print(x)"
   ]
  },
  {
   "cell_type": "code",
   "execution_count": 46,
   "id": "15a17773",
   "metadata": {},
   "outputs": [
    {
     "name": "stdout",
     "output_type": "stream",
     "text": [
      "0 documents updated.\n",
      "{'_id': ObjectId('6373263c784ebafa8bd9b16f'), 'name': 'sujit', 'age': 24}\n",
      "{'_id': ObjectId('63732645784ebafa8bd9b170'), 'name': 'sujit', 'age': 24}\n",
      "{'_id': ObjectId('637326b7784ebafa8bd9b171'), 'name': 'sujit', 'age': 24}\n",
      "{'_id': ObjectId('637326c4784ebafa8bd9b172'), 'name': 'sujit', 'age': 24}\n",
      "{'_id': ObjectId('637326d3784ebafa8bd9b173'), 'name': 'sujit', 'age': 24}\n",
      "{'_id': ObjectId('637326e0784ebafa8bd9b174'), 'name': 'sujit', 'age': 24}\n",
      "{'_id': ObjectId('63732c47784ebafa8bd9b175'), 'name': 'Amy', 'address': 'Apple st 652'}\n",
      "{'_id': ObjectId('63732c47784ebafa8bd9b177'), 'name': 'Minnie', 'address': 'Valley 345'}\n",
      "{'_id': ObjectId('63732c47784ebafa8bd9b178'), 'name': 'Sandy', 'address': 'Ocean blvd 2'}\n",
      "{'_id': ObjectId('63732c47784ebafa8bd9b179'), 'name': 'Betty', 'address': 'Green Grass 1'}\n",
      "{'_id': ObjectId('63732c47784ebafa8bd9b17a'), 'name': 'Richard', 'address': 'Sky st 331'}\n",
      "{'_id': ObjectId('63732c47784ebafa8bd9b17b'), 'name': 'Susan', 'address': 'One way 98'}\n",
      "{'_id': ObjectId('63732c47784ebafa8bd9b17c'), 'name': 'Vicky', 'address': 'Yellow Garden 2'}\n",
      "{'_id': ObjectId('63732c47784ebafa8bd9b17d'), 'name': 'Ben', 'address': 'Park Lane 38'}\n",
      "{'_id': ObjectId('63732c47784ebafa8bd9b17e'), 'name': 'William', 'address': 'Central st 954'}\n",
      "{'_id': ObjectId('63732c47784ebafa8bd9b17f'), 'name': 'Chuck', 'address': 'Main Road 989'}\n",
      "{'_id': ObjectId('63732c47784ebafa8bd9b180'), 'name': 'Viola', 'address': 'Sideway 1633'}\n",
      "{'_id': ObjectId('63732c5b784ebafa8bd9b181'), 'name': 'Amy', 'address': 'Apple st 652'}\n",
      "{'_id': ObjectId('63732c5b784ebafa8bd9b183'), 'name': 'Minnie', 'address': 'Valley 345'}\n",
      "{'_id': ObjectId('63732c5b784ebafa8bd9b184'), 'name': 'Sandy', 'address': 'Ocean blvd 2'}\n",
      "{'_id': ObjectId('63732c5b784ebafa8bd9b185'), 'name': 'Betty', 'address': 'Green Grass 1'}\n",
      "{'_id': ObjectId('63732c5b784ebafa8bd9b186'), 'name': 'Richard', 'address': 'Sky st 331'}\n",
      "{'_id': ObjectId('63732c5b784ebafa8bd9b187'), 'name': 'Susan', 'address': 'One way 98'}\n",
      "{'_id': ObjectId('63732c5b784ebafa8bd9b188'), 'name': 'Vicky', 'address': 'Yellow Garden 2'}\n",
      "{'_id': ObjectId('63732c5b784ebafa8bd9b189'), 'name': 'Ben', 'address': 'Park Lane 38'}\n",
      "{'_id': ObjectId('63732c5b784ebafa8bd9b18a'), 'name': 'William', 'address': 'Central st 954'}\n",
      "{'_id': ObjectId('63732c5b784ebafa8bd9b18b'), 'name': 'Chuck', 'address': 'Main Road 989'}\n",
      "{'_id': ObjectId('63732c5b784ebafa8bd9b18c'), 'name': 'Viola', 'address': 'Sideway 1633'}\n",
      "{'_id': ObjectId('63732c61784ebafa8bd9b18d'), 'name': 'Amy', 'address': 'Apple st 652'}\n",
      "{'_id': ObjectId('63732c61784ebafa8bd9b18f'), 'name': 'Minnie', 'address': 'Valley 345'}\n",
      "{'_id': ObjectId('63732c61784ebafa8bd9b190'), 'name': 'Sandy', 'address': 'Ocean blvd 2'}\n",
      "{'_id': ObjectId('63732c61784ebafa8bd9b191'), 'name': 'Betty', 'address': 'Green Grass 1'}\n",
      "{'_id': ObjectId('63732c61784ebafa8bd9b192'), 'name': 'Richard', 'address': 'Sky st 331'}\n",
      "{'_id': ObjectId('63732c61784ebafa8bd9b193'), 'name': 'Susan', 'address': 'One way 98'}\n",
      "{'_id': ObjectId('63732c61784ebafa8bd9b194'), 'name': 'Vicky', 'address': 'Yellow Garden 2'}\n",
      "{'_id': ObjectId('63732c61784ebafa8bd9b195'), 'name': 'Ben', 'address': 'Park Lane 38'}\n",
      "{'_id': ObjectId('63732c61784ebafa8bd9b196'), 'name': 'William', 'address': 'Central st 954'}\n",
      "{'_id': ObjectId('63732c61784ebafa8bd9b197'), 'name': 'Chuck', 'address': 'Main Road 989'}\n",
      "{'_id': ObjectId('63732c61784ebafa8bd9b198'), 'name': 'Viola', 'address': 'Sideway 1633'}\n",
      "{'_id': ObjectId('63732c6b784ebafa8bd9b199'), 'name': 'Amy', 'address': 'Apple st 652'}\n",
      "{'_id': ObjectId('63732c6b784ebafa8bd9b19b'), 'name': 'Minnie', 'address': 'Valley 345'}\n",
      "{'_id': ObjectId('63732c6b784ebafa8bd9b19c'), 'name': 'Sandy', 'address': 'Ocean blvd 2'}\n",
      "{'_id': ObjectId('63732c6b784ebafa8bd9b19d'), 'name': 'Betty', 'address': 'Green Grass 1'}\n",
      "{'_id': ObjectId('63732c6b784ebafa8bd9b19e'), 'name': 'Richard', 'address': 'Sky st 331'}\n",
      "{'_id': ObjectId('63732c6b784ebafa8bd9b19f'), 'name': 'Susan', 'address': 'One way 98'}\n",
      "{'_id': ObjectId('63732c6b784ebafa8bd9b1a0'), 'name': 'Vicky', 'address': 'Yellow Garden 2'}\n",
      "{'_id': ObjectId('63732c6b784ebafa8bd9b1a1'), 'name': 'Ben', 'address': 'Park Lane 38'}\n",
      "{'_id': ObjectId('63732c6b784ebafa8bd9b1a2'), 'name': 'William', 'address': 'Central st 954'}\n",
      "{'_id': ObjectId('63732c6b784ebafa8bd9b1a3'), 'name': 'Chuck', 'address': 'Main Road 989'}\n",
      "{'_id': ObjectId('63732c6b784ebafa8bd9b1a4'), 'name': 'Viola', 'address': 'Sideway 1633'}\n",
      "{'_id': ObjectId('63732c79784ebafa8bd9b1a5'), 'name': 'Amy', 'address': 'Apple st 652'}\n",
      "{'_id': ObjectId('63732c79784ebafa8bd9b1a6'), 'name': 'Hannah', 'address': 'Mountain 21'}\n",
      "{'_id': ObjectId('63732c79784ebafa8bd9b1a7'), 'name': 'Minnie', 'address': 'Valley 345'}\n",
      "{'_id': ObjectId('63732c79784ebafa8bd9b1a8'), 'name': 'Sandy', 'address': 'Ocean blvd 2'}\n",
      "{'_id': ObjectId('63732c79784ebafa8bd9b1a9'), 'name': 'Betty', 'address': 'Green Grass 1'}\n",
      "{'_id': ObjectId('63732c79784ebafa8bd9b1aa'), 'name': 'Richard', 'address': 'Sky st 331'}\n",
      "{'_id': ObjectId('63732c79784ebafa8bd9b1ab'), 'name': 'Susan', 'address': 'One way 98'}\n",
      "{'_id': ObjectId('63732c79784ebafa8bd9b1ac'), 'name': 'Vicky', 'address': 'Yellow Garden 2'}\n",
      "{'_id': ObjectId('63732c79784ebafa8bd9b1ad'), 'name': 'Ben', 'address': 'Park Lane 38'}\n",
      "{'_id': ObjectId('63732c79784ebafa8bd9b1ae'), 'name': 'William', 'address': 'Central st 954'}\n",
      "{'_id': ObjectId('63732c79784ebafa8bd9b1af'), 'name': 'Chuck', 'address': 'Main Road 989'}\n",
      "{'_id': ObjectId('63732c79784ebafa8bd9b1b0'), 'name': 'Viola', 'address': 'Sideway 1633'}\n",
      "{'_id': ObjectId('63732d5a784ebafa8bd9b1b1'), 'name': 'Amy', 'address': 'Apple st 652'}\n",
      "{'_id': ObjectId('63732d5a784ebafa8bd9b1b2'), 'name': 'Hannah', 'address': 'Mountain 21'}\n",
      "{'_id': ObjectId('63732d5a784ebafa8bd9b1b3'), 'name': 'Minnie', 'address': 'Valley 345'}\n",
      "{'_id': ObjectId('63732d5a784ebafa8bd9b1b4'), 'name': 'Sandy', 'address': 'Ocean blvd 2'}\n",
      "{'_id': ObjectId('63732d5a784ebafa8bd9b1b5'), 'name': 'Betty', 'address': 'Green Grass 1'}\n",
      "{'_id': ObjectId('63732d5a784ebafa8bd9b1b6'), 'name': 'Richard', 'address': 'Sky st 331'}\n",
      "{'_id': ObjectId('63732d5a784ebafa8bd9b1b7'), 'name': 'Susan', 'address': 'One way 98'}\n",
      "{'_id': ObjectId('63732d5a784ebafa8bd9b1b8'), 'name': 'Vicky', 'address': 'Yellow Garden 2'}\n",
      "{'_id': ObjectId('63732d5a784ebafa8bd9b1b9'), 'name': 'Ben', 'address': 'Park Lane 38'}\n",
      "{'_id': ObjectId('63732d5a784ebafa8bd9b1ba'), 'name': 'William', 'address': 'Central st 954'}\n",
      "{'_id': ObjectId('63732d5a784ebafa8bd9b1bb'), 'name': 'Chuck', 'address': 'Main Road 989'}\n",
      "{'_id': ObjectId('63732d5a784ebafa8bd9b1bc'), 'name': 'Viola', 'address': 'Sideway 1633'}\n"
     ]
    }
   ],
   "source": [
    "#Update \n",
    "myquery = { \"address\": \"Valley 345\" }  \n",
    "newvalues = { \"$set\": { \"name\": \"Minnie\" } }\n",
    "h = collection.update_many(myquery, newvalues)\n",
    "print(h.modified_count, \"documents updated.\")\n",
    "for h in collection.find():\n",
    "    print(h)\n"
   ]
  },
  {
   "cell_type": "code",
   "execution_count": 44,
   "id": "0b65fb30",
   "metadata": {},
   "outputs": [
    {
     "name": "stdout",
     "output_type": "stream",
     "text": [
      "{'_id': ObjectId('6373263c784ebafa8bd9b16f'), 'name': 'sujit', 'age': 24}\n",
      "{'_id': ObjectId('63732645784ebafa8bd9b170'), 'name': 'sujit', 'age': 24}\n",
      "{'_id': ObjectId('637326b7784ebafa8bd9b171'), 'name': 'sujit', 'age': 24}\n",
      "{'_id': ObjectId('637326c4784ebafa8bd9b172'), 'name': 'sujit', 'age': 24}\n",
      "{'_id': ObjectId('637326d3784ebafa8bd9b173'), 'name': 'sujit', 'age': 24}\n",
      "{'_id': ObjectId('637326e0784ebafa8bd9b174'), 'name': 'sujit', 'age': 24}\n",
      "{'_id': ObjectId('63732c47784ebafa8bd9b175'), 'name': 'Amy', 'address': 'Apple st 652'}\n",
      "{'_id': ObjectId('63732c47784ebafa8bd9b177'), 'name': 'Minnie', 'address': 'Valley 345'}\n",
      "{'_id': ObjectId('63732c47784ebafa8bd9b178'), 'name': 'Sandy', 'address': 'Ocean blvd 2'}\n",
      "{'_id': ObjectId('63732c47784ebafa8bd9b179'), 'name': 'Betty', 'address': 'Green Grass 1'}\n",
      "{'_id': ObjectId('63732c47784ebafa8bd9b17a'), 'name': 'Richard', 'address': 'Sky st 331'}\n",
      "{'_id': ObjectId('63732c47784ebafa8bd9b17b'), 'name': 'Susan', 'address': 'One way 98'}\n",
      "{'_id': ObjectId('63732c47784ebafa8bd9b17c'), 'name': 'Vicky', 'address': 'Yellow Garden 2'}\n",
      "{'_id': ObjectId('63732c47784ebafa8bd9b17d'), 'name': 'Ben', 'address': 'Park Lane 38'}\n",
      "{'_id': ObjectId('63732c47784ebafa8bd9b17e'), 'name': 'William', 'address': 'Central st 954'}\n",
      "{'_id': ObjectId('63732c47784ebafa8bd9b17f'), 'name': 'Chuck', 'address': 'Main Road 989'}\n",
      "{'_id': ObjectId('63732c47784ebafa8bd9b180'), 'name': 'Viola', 'address': 'Sideway 1633'}\n",
      "{'_id': ObjectId('63732c5b784ebafa8bd9b181'), 'name': 'Amy', 'address': 'Apple st 652'}\n",
      "{'_id': ObjectId('63732c5b784ebafa8bd9b183'), 'name': 'Minnie', 'address': 'Valley 345'}\n",
      "{'_id': ObjectId('63732c5b784ebafa8bd9b184'), 'name': 'Sandy', 'address': 'Ocean blvd 2'}\n",
      "{'_id': ObjectId('63732c5b784ebafa8bd9b185'), 'name': 'Betty', 'address': 'Green Grass 1'}\n",
      "{'_id': ObjectId('63732c5b784ebafa8bd9b186'), 'name': 'Richard', 'address': 'Sky st 331'}\n",
      "{'_id': ObjectId('63732c5b784ebafa8bd9b187'), 'name': 'Susan', 'address': 'One way 98'}\n",
      "{'_id': ObjectId('63732c5b784ebafa8bd9b188'), 'name': 'Vicky', 'address': 'Yellow Garden 2'}\n",
      "{'_id': ObjectId('63732c5b784ebafa8bd9b189'), 'name': 'Ben', 'address': 'Park Lane 38'}\n",
      "{'_id': ObjectId('63732c5b784ebafa8bd9b18a'), 'name': 'William', 'address': 'Central st 954'}\n",
      "{'_id': ObjectId('63732c5b784ebafa8bd9b18b'), 'name': 'Chuck', 'address': 'Main Road 989'}\n",
      "{'_id': ObjectId('63732c5b784ebafa8bd9b18c'), 'name': 'Viola', 'address': 'Sideway 1633'}\n",
      "{'_id': ObjectId('63732c61784ebafa8bd9b18d'), 'name': 'Amy', 'address': 'Apple st 652'}\n",
      "{'_id': ObjectId('63732c61784ebafa8bd9b18f'), 'name': 'Minnie', 'address': 'Valley 345'}\n",
      "{'_id': ObjectId('63732c61784ebafa8bd9b190'), 'name': 'Sandy', 'address': 'Ocean blvd 2'}\n",
      "{'_id': ObjectId('63732c61784ebafa8bd9b191'), 'name': 'Betty', 'address': 'Green Grass 1'}\n",
      "{'_id': ObjectId('63732c61784ebafa8bd9b192'), 'name': 'Richard', 'address': 'Sky st 331'}\n",
      "{'_id': ObjectId('63732c61784ebafa8bd9b193'), 'name': 'Susan', 'address': 'One way 98'}\n",
      "{'_id': ObjectId('63732c61784ebafa8bd9b194'), 'name': 'Vicky', 'address': 'Yellow Garden 2'}\n",
      "{'_id': ObjectId('63732c61784ebafa8bd9b195'), 'name': 'Ben', 'address': 'Park Lane 38'}\n",
      "{'_id': ObjectId('63732c61784ebafa8bd9b196'), 'name': 'William', 'address': 'Central st 954'}\n",
      "{'_id': ObjectId('63732c61784ebafa8bd9b197'), 'name': 'Chuck', 'address': 'Main Road 989'}\n",
      "{'_id': ObjectId('63732c61784ebafa8bd9b198'), 'name': 'Viola', 'address': 'Sideway 1633'}\n",
      "{'_id': ObjectId('63732c6b784ebafa8bd9b199'), 'name': 'Amy', 'address': 'Apple st 652'}\n",
      "{'_id': ObjectId('63732c6b784ebafa8bd9b19b'), 'name': 'Minnie', 'address': 'Valley 345'}\n",
      "{'_id': ObjectId('63732c6b784ebafa8bd9b19c'), 'name': 'Sandy', 'address': 'Ocean blvd 2'}\n",
      "{'_id': ObjectId('63732c6b784ebafa8bd9b19d'), 'name': 'Betty', 'address': 'Green Grass 1'}\n",
      "{'_id': ObjectId('63732c6b784ebafa8bd9b19e'), 'name': 'Richard', 'address': 'Sky st 331'}\n",
      "{'_id': ObjectId('63732c6b784ebafa8bd9b19f'), 'name': 'Susan', 'address': 'One way 98'}\n",
      "{'_id': ObjectId('63732c6b784ebafa8bd9b1a0'), 'name': 'Vicky', 'address': 'Yellow Garden 2'}\n",
      "{'_id': ObjectId('63732c6b784ebafa8bd9b1a1'), 'name': 'Ben', 'address': 'Park Lane 38'}\n",
      "{'_id': ObjectId('63732c6b784ebafa8bd9b1a2'), 'name': 'William', 'address': 'Central st 954'}\n",
      "{'_id': ObjectId('63732c6b784ebafa8bd9b1a3'), 'name': 'Chuck', 'address': 'Main Road 989'}\n",
      "{'_id': ObjectId('63732c6b784ebafa8bd9b1a4'), 'name': 'Viola', 'address': 'Sideway 1633'}\n",
      "{'_id': ObjectId('63732c79784ebafa8bd9b1a5'), 'name': 'Amy', 'address': 'Apple st 652'}\n",
      "{'_id': ObjectId('63732c79784ebafa8bd9b1a6'), 'name': 'Hannah', 'address': 'Mountain 21'}\n",
      "{'_id': ObjectId('63732c79784ebafa8bd9b1a7'), 'name': 'Minnie', 'address': 'Valley 345'}\n",
      "{'_id': ObjectId('63732c79784ebafa8bd9b1a8'), 'name': 'Sandy', 'address': 'Ocean blvd 2'}\n",
      "{'_id': ObjectId('63732c79784ebafa8bd9b1a9'), 'name': 'Betty', 'address': 'Green Grass 1'}\n",
      "{'_id': ObjectId('63732c79784ebafa8bd9b1aa'), 'name': 'Richard', 'address': 'Sky st 331'}\n",
      "{'_id': ObjectId('63732c79784ebafa8bd9b1ab'), 'name': 'Susan', 'address': 'One way 98'}\n",
      "{'_id': ObjectId('63732c79784ebafa8bd9b1ac'), 'name': 'Vicky', 'address': 'Yellow Garden 2'}\n",
      "{'_id': ObjectId('63732c79784ebafa8bd9b1ad'), 'name': 'Ben', 'address': 'Park Lane 38'}\n",
      "{'_id': ObjectId('63732c79784ebafa8bd9b1ae'), 'name': 'William', 'address': 'Central st 954'}\n",
      "{'_id': ObjectId('63732c79784ebafa8bd9b1af'), 'name': 'Chuck', 'address': 'Main Road 989'}\n",
      "{'_id': ObjectId('63732c79784ebafa8bd9b1b0'), 'name': 'Viola', 'address': 'Sideway 1633'}\n",
      "{'_id': ObjectId('63732d5a784ebafa8bd9b1b1'), 'name': 'Amy', 'address': 'Apple st 652'}\n",
      "{'_id': ObjectId('63732d5a784ebafa8bd9b1b2'), 'name': 'Hannah', 'address': 'Mountain 21'}\n",
      "{'_id': ObjectId('63732d5a784ebafa8bd9b1b3'), 'name': 'Minnie', 'address': 'Valley 345'}\n",
      "{'_id': ObjectId('63732d5a784ebafa8bd9b1b4'), 'name': 'Sandy', 'address': 'Ocean blvd 2'}\n",
      "{'_id': ObjectId('63732d5a784ebafa8bd9b1b5'), 'name': 'Betty', 'address': 'Green Grass 1'}\n",
      "{'_id': ObjectId('63732d5a784ebafa8bd9b1b6'), 'name': 'Richard', 'address': 'Sky st 331'}\n",
      "{'_id': ObjectId('63732d5a784ebafa8bd9b1b7'), 'name': 'Susan', 'address': 'One way 98'}\n",
      "{'_id': ObjectId('63732d5a784ebafa8bd9b1b8'), 'name': 'Vicky', 'address': 'Yellow Garden 2'}\n",
      "{'_id': ObjectId('63732d5a784ebafa8bd9b1b9'), 'name': 'Ben', 'address': 'Park Lane 38'}\n",
      "{'_id': ObjectId('63732d5a784ebafa8bd9b1ba'), 'name': 'William', 'address': 'Central st 954'}\n",
      "{'_id': ObjectId('63732d5a784ebafa8bd9b1bb'), 'name': 'Chuck', 'address': 'Main Road 989'}\n",
      "{'_id': ObjectId('63732d5a784ebafa8bd9b1bc'), 'name': 'Viola', 'address': 'Sideway 1633'}\n"
     ]
    }
   ],
   "source": [
    "#delete\n",
    "\n",
    "myquery = { \"address\": \"Mountain 21\" }\n",
    "i = collection.delete_one(myquery)\n",
    "for i in collection.find():\n",
    "    print(i)\n"
   ]
  },
  {
   "cell_type": "code",
   "execution_count": 41,
   "id": "3e51d7c1",
   "metadata": {},
   "outputs": [
    {
     "name": "stdout",
     "output_type": "stream",
     "text": [
      "{'_id': ObjectId('63732c47784ebafa8bd9b177'), 'name': 'Minnie', 'address': 'Valley 345'}\n",
      "{'_id': ObjectId('63732c47784ebafa8bd9b17a'), 'name': 'Richard', 'address': 'Sky st 331'}\n",
      "{'_id': ObjectId('63732c47784ebafa8bd9b17c'), 'name': 'Vicky', 'address': 'Yellow Garden 2'}\n",
      "{'_id': ObjectId('63732c47784ebafa8bd9b180'), 'name': 'Viola', 'address': 'Sideway 1633'}\n",
      "{'_id': ObjectId('63732c5b784ebafa8bd9b183'), 'name': 'Minnie', 'address': 'Valley 345'}\n",
      "{'_id': ObjectId('63732c5b784ebafa8bd9b186'), 'name': 'Richard', 'address': 'Sky st 331'}\n",
      "{'_id': ObjectId('63732c5b784ebafa8bd9b188'), 'name': 'Vicky', 'address': 'Yellow Garden 2'}\n"
     ]
    }
   ],
   "source": [
    "#find the data which is greater than S alphabet\n",
    "myquery = { \"address\": { \"$gt\": \"S\"} }\n",
    "mydoc = collection.find(myquery).limit(7)\n",
    "for s in mydoc:\n",
    "    print(s)"
   ]
  },
  {
   "cell_type": "code",
   "execution_count": 40,
   "id": "46420b6c",
   "metadata": {},
   "outputs": [
    {
     "name": "stdout",
     "output_type": "stream",
     "text": [
      "{'_id': ObjectId('6373263c784ebafa8bd9b16f'), 'name': 'sujit', 'age': 24}\n",
      "{'_id': ObjectId('63732645784ebafa8bd9b170'), 'name': 'sujit', 'age': 24}\n",
      "{'_id': ObjectId('637326b7784ebafa8bd9b171'), 'name': 'sujit', 'age': 24}\n",
      "{'_id': ObjectId('637326c4784ebafa8bd9b172'), 'name': 'sujit', 'age': 24}\n",
      "{'_id': ObjectId('637326d3784ebafa8bd9b173'), 'name': 'sujit', 'age': 24}\n"
     ]
    }
   ],
   "source": [
    "# Limit the result to only return 5 documents:\n",
    "\n",
    "myresult = collection.find().limit(5)\n",
    "for g in myresult:\n",
    "    print(g)"
   ]
  },
  {
   "cell_type": "code",
   "execution_count": null,
   "id": "466d292f",
   "metadata": {},
   "outputs": [],
   "source": []
  }
 ],
 "metadata": {
  "kernelspec": {
   "display_name": "Python 3 (ipykernel)",
   "language": "python",
   "name": "python3"
  },
  "language_info": {
   "codemirror_mode": {
    "name": "ipython",
    "version": 3
   },
   "file_extension": ".py",
   "mimetype": "text/x-python",
   "name": "python",
   "nbconvert_exporter": "python",
   "pygments_lexer": "ipython3",
   "version": "3.8.10"
  }
 },
 "nbformat": 4,
 "nbformat_minor": 5
}
